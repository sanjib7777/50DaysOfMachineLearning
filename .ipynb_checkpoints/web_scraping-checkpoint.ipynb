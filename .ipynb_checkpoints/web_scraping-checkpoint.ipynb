{
 "cells": [
  {
   "cell_type": "code",
   "execution_count": 1,
   "id": "de943489-4a7e-4586-9abf-25a54f8f3aca",
   "metadata": {},
   "outputs": [
    {
     "name": "stdout",
     "output_type": "stream",
     "text": [
      "Collecting bs4\n",
      "  Downloading bs4-0.0.2-py2.py3-none-any.whl.metadata (411 bytes)\n",
      "Requirement already satisfied: beautifulsoup4 in c:\\users\\acer\\appdata\\local\\programs\\python\\python312\\lib\\site-packages (from bs4) (4.12.3)\n",
      "Requirement already satisfied: soupsieve>1.2 in c:\\users\\acer\\appdata\\local\\programs\\python\\python312\\lib\\site-packages (from beautifulsoup4->bs4) (2.6)\n",
      "Downloading bs4-0.0.2-py2.py3-none-any.whl (1.2 kB)\n",
      "Installing collected packages: bs4\n",
      "Successfully installed bs4-0.0.2\n",
      "Note: you may need to restart the kernel to use updated packages.\n"
     ]
    }
   ],
   "source": [
    "pip install bs4"
   ]
  },
  {
   "cell_type": "code",
   "execution_count": 5,
   "id": "65c03d79-1ab1-45dd-b27d-8029c7e595e2",
   "metadata": {},
   "outputs": [
    {
     "name": "stdout",
     "output_type": "stream",
     "text": [
      "Collecting lxml\n",
      "  Downloading lxml-5.3.0-cp312-cp312-win_amd64.whl.metadata (3.9 kB)\n",
      "Downloading lxml-5.3.0-cp312-cp312-win_amd64.whl (3.8 MB)\n",
      "   ---------------------------------------- 0.0/3.8 MB ? eta -:--:--\n",
      "   ---------------------------------------- 0.0/3.8 MB ? eta -:--:--\n",
      "   ---------------------------------------- 0.0/3.8 MB ? eta -:--:--\n",
      "   ---------------------------------------- 0.0/3.8 MB ? eta -:--:--\n",
      "   -- ------------------------------------- 0.3/3.8 MB ? eta -:--:--\n",
      "   ----- ---------------------------------- 0.5/3.8 MB 1.1 MB/s eta 0:00:03\n",
      "   -------- ------------------------------- 0.8/3.8 MB 1.2 MB/s eta 0:00:03\n",
      "   ------------- -------------------------- 1.3/3.8 MB 1.3 MB/s eta 0:00:02\n",
      "   ------------- -------------------------- 1.3/3.8 MB 1.3 MB/s eta 0:00:02\n",
      "   ------------------- -------------------- 1.8/3.8 MB 1.3 MB/s eta 0:00:02\n",
      "   --------------------- ------------------ 2.1/3.8 MB 1.3 MB/s eta 0:00:02\n",
      "   ------------------------ --------------- 2.4/3.8 MB 1.4 MB/s eta 0:00:02\n",
      "   ------------------------------ --------- 2.9/3.8 MB 1.4 MB/s eta 0:00:01\n",
      "   -------------------------------- ------- 3.1/3.8 MB 1.4 MB/s eta 0:00:01\n",
      "   ----------------------------------- ---- 3.4/3.8 MB 1.4 MB/s eta 0:00:01\n",
      "   ---------------------------------------- 3.8/3.8 MB 1.4 MB/s eta 0:00:00\n",
      "Installing collected packages: lxml\n",
      "Successfully installed lxml-5.3.0\n",
      "Note: you may need to restart the kernel to use updated packages.\n"
     ]
    }
   ],
   "source": [
    "pip install lxml"
   ]
  },
  {
   "cell_type": "code",
   "execution_count": 1,
   "id": "a9e03f77-6e54-4e02-a827-f8b7a3bc1485",
   "metadata": {},
   "outputs": [],
   "source": [
    "import pandas as pd\n",
    "import requests\n",
    "from bs4 import BeautifulSoup"
   ]
  },
  {
   "cell_type": "code",
   "execution_count": 2,
   "id": "5fcf142a-ef5a-4acf-b09a-0b333e6bf7b1",
   "metadata": {},
   "outputs": [],
   "source": [
    "headers={'User-Agent':'Mozilla/5.0 (Windows NT 6.3; Win 64 ; x64) Apple WeKit /537.36(KHTML , like Gecko) Chrome/80.0.3987.162 Safari/537.36'}\n",
    "web=requests.get('https://sanjibshah.com.np/',headers=headers).text"
   ]
  },
  {
   "cell_type": "code",
   "execution_count": 3,
   "id": "66ca7f3f-ba94-4e7e-b735-04cd13c275a1",
   "metadata": {},
   "outputs": [],
   "source": [
    "soup=BeautifulSoup(web,'html.parser')"
   ]
  },
  {
   "cell_type": "code",
   "execution_count": 4,
   "id": "abcb27ba-d9d5-4192-8208-6cad6bafc054",
   "metadata": {},
   "outputs": [
    {
     "data": {
      "text/plain": [
       "[<div class=\"container-xxl py-3 pb-5\" id=\"Certification\">\n",
       " <div class=\"container\">\n",
       " <div class=\"row g-5\">\n",
       " <div class=\"col-lg-12 wow fadeInUp\" data-wow-delay=\"0.1s\">\n",
       " <h1 class=\"display-5 mb-5\">Certification</h1>\n",
       " <div class=\"row gy-5 gx-4\">\n",
       " <div class=\"col-sm-6 col-md-6 col-lg-6\">\n",
       " <h5>Developer at NCIT HULT 2024</h5>\n",
       " <hr class=\"text-primary my-2\"/>\n",
       " <p class=\"text-primary mb-1\" style=\"display: flex; align-items: center;\">\n",
       "                                 Organized By: HULT PRIZE NCIT \n",
       "                                 <a class=\"btn btn-lg-square btn-outline-secondary border-2 mx-2\" data-lightbox=\"portfolio1\" href=\"img/hult_certificate.jpg\">\n",
       " <i class=\"fa fa-eye\"></i>\n",
       " </a>\n",
       " </p>\n",
       " </div>\n",
       " <div class=\"col-sm-6 col-md-6 col-lg-6\">\n",
       " <h5>KIST HACKFEST 2024</h5>\n",
       " <hr class=\"text-primary my-2\"/>\n",
       " <p class=\"text-primary mb-1\" style=\"display: flex; align-items: center;\">\n",
       "                                 Organized By: KIST College and SS \n",
       "                                 <a class=\"btn btn-lg-square btn-outline-secondary border-2 mx-2\" data-lightbox=\"portfolio15\" href=\"img/KIST.jpg\">\n",
       " <i class=\"fa fa-eye\"></i>\n",
       " </a>\n",
       " </p>\n",
       " </div>\n",
       " </div>\n",
       " <div class=\"row gy-5 gx-4 mt-3\">\n",
       " <div class=\"col-sm-6 col-md-6 col-lg-6\">\n",
       " <h5>NCIT HACKFEST 2024</h5>\n",
       " <hr class=\"text-primary my-2\"/>\n",
       " <p class=\"text-primary mb-1\" style=\"display: flex; align-items: center;\">\n",
       "                                 Organized By: NOSK and NCIT \n",
       "                                 <a class=\"btn btn-lg-square btn-outline-secondary border-2 mx-2\" data-lightbox=\"portfolio2\" href=\"img/hackfest.png\">\n",
       " <i class=\"fa fa-eye\"></i>\n",
       " </a>\n",
       " </p>\n",
       " </div>\n",
       " <div class=\"col-sm-6 col-md-6 col-lg-6\">\n",
       " <h5>Supervised Machine Learning</h5>\n",
       " <hr class=\"text-primary my-2\"/>\n",
       " <p class=\"text-primary mb-1\" style=\"display: flex; align-items: center;\">\n",
       "                                 Organized By: Coursera\n",
       "                                 <a class=\"btn btn-lg-square btn-outline-secondary border-2 mx-2\" data-lightbox=\"portfolio11\" href=\"img/Supervised_ML.png\">\n",
       " <i class=\"fa fa-eye\"></i>\n",
       " </a>\n",
       " </p>\n",
       " </div>\n",
       " </div>\n",
       " <div class=\"row gy-5 gx-4 mt-3\">\n",
       " <div class=\"col-sm-6 col-md-6 col-lg-6\">\n",
       " <h5>Become a Python Master</h5>\n",
       " <hr class=\"text-primary my-2\"/>\n",
       " <p class=\"text-primary mb-1\" style=\"display: flex; align-items: center;\">\n",
       "                                 Organized By: Programiz\n",
       "                                 <a class=\"btn btn-lg-square btn-outline-secondary border-2 mx-2\" data-lightbox=\"portfolio9\" href=\"img/python.png\">\n",
       " <i class=\"fa fa-eye\"></i>\n",
       " </a>\n",
       " </p>\n",
       " </div>\n",
       " <div class=\"col-sm-6 col-md-6 col-lg-6\">\n",
       " <h5>Internet of Things(IoT)</h5>\n",
       " <hr class=\"text-primary my-2\"/>\n",
       " <p class=\"text-primary mb-1\" style=\"display: flex; align-items: center;\">\n",
       "                                 Organized By: Cisco Networking Academy\n",
       "                                 <a class=\"btn btn-lg-square btn-outline-secondary border-2 mx-2\" data-lightbox=\"portfolio10\" href=\"img/IoT.png\">\n",
       " <i class=\"fa fa-eye\"></i>\n",
       " </a>\n",
       " </p>\n",
       " </div>\n",
       " </div>\n",
       " <div class=\"row gy-5 gx-4 mt-3\">\n",
       " <div class=\"col-sm-6 col-md-6 col-lg-6\">\n",
       " <h5>Flutter Course</h5>\n",
       " <hr class=\"text-primary my-2\"/>\n",
       " <p class=\"text-primary mb-1\" style=\"display: flex; align-items: center;\">\n",
       "                                 Organized By: SkillUp \n",
       "                                 <a class=\"btn btn-lg-square btn-outline-secondary border-2 mx-2\" data-lightbox=\"portfolio8\" href=\"img/flutter.JPG\">\n",
       " <i class=\"fa fa-eye\"></i>\n",
       " </a>\n",
       " </p>\n",
       " </div>\n",
       " <div class=\"col-sm-6 col-md-6 col-lg-6\">\n",
       " <h5>Microsoft AI Skills Challenge</h5>\n",
       " <hr class=\"text-primary my-2\"/>\n",
       " <p class=\"text-primary mb-1\" style=\"display: flex; align-items: center;\">\n",
       "                                 Organized By: Microsoft \n",
       "                                 <a class=\"btn btn-lg-square btn-outline-secondary border-2 mx-2\" data-lightbox=\"portfolio7\" href=\"img/AI.JPG\">\n",
       " <i class=\"fa fa-eye\"></i>\n",
       " </a>\n",
       " </p>\n",
       " </div>\n",
       " </div>\n",
       " <div class=\"row gy-5 gx-4 mt-3\">\n",
       " <div class=\"col-sm-6 col-md-6 col-lg-6\">\n",
       " <h5>Microsoft Azure AI Challenge</h5>\n",
       " <hr class=\"text-primary my-2\"/>\n",
       " <p class=\"text-primary mb-1\" style=\"display: flex; align-items: center;\">\n",
       "                                 Organized By: Microsoft Learn Student Ambassador\n",
       "                                 <a class=\"btn btn-lg-square btn-outline-secondary border-2 mx-2\" data-lightbox=\"portfolio4\" href=\"img/microsoft.png\">\n",
       " <i class=\"fa fa-eye\"></i>\n",
       " </a>\n",
       " </p>\n",
       " </div>\n",
       " <div class=\"col-sm-6 col-md-6 col-lg-6\">\n",
       " <h5>CodeDecode Competition</h5>\n",
       " <hr class=\"text-primary my-2\"/>\n",
       " <p class=\"text-primary mb-1\" style=\"display: flex; align-items: center;\">\n",
       "                                 Organized By: NCIT Robotics Club\n",
       "                                 <a class=\"btn btn-lg-square btn-outline-secondary border-2 mx-2\" data-lightbox=\"portfolio9\" href=\"img/codedecode.jpg\">\n",
       " <i class=\"fa fa-eye\"></i>\n",
       " </a>\n",
       " </p>\n",
       " </div>\n",
       " </div>\n",
       " <div class=\"row gy-5 gx-4 mt-3\">\n",
       " <div class=\"col-sm-6 col-md-6 col-lg-6\">\n",
       " <h5>Entrepreneurship Orientation Workshop</h5>\n",
       " <hr class=\"text-primary my-2\"/>\n",
       " <p class=\"text-primary mb-1\" style=\"display: flex; align-items: center;\">\n",
       "                                 Organized By: NCIT\n",
       "                                 <a class=\"btn btn-lg-square btn-outline-secondary border-2 mx-2\" data-lightbox=\"portfolio5\" href=\"img/entre.jpg\">\n",
       " <i class=\"fa fa-eye\"></i>\n",
       " </a>\n",
       " </p>\n",
       " </div>\n",
       " <div class=\"col-sm-6 col-md-6 col-lg-6\">\n",
       " <h5>Java Training Course 2022</h5>\n",
       " <hr class=\"text-primary my-2\"/>\n",
       " <p class=\"text-primary mb-1\" style=\"display: flex; align-items: center;\">\n",
       "                                 Organized By: Udemy\n",
       "                                 <a class=\"btn btn-lg-square btn-outline-secondary border-2 mx-2\" data-lightbox=\"portfolio6\" href=\"img/javaudemy.png\">\n",
       " <i class=\"fa fa-eye\"></i>\n",
       " </a>\n",
       " </p>\n",
       " </div>\n",
       " </div>\n",
       " </div>\n",
       " </div>\n",
       " </div>\n",
       " </div>]"
      ]
     },
     "execution_count": 4,
     "metadata": {},
     "output_type": "execute_result"
    }
   ],
   "source": [
    "certi=soup.find_all('div',id=\"Certification\")\n",
    "certi"
   ]
  },
  {
   "cell_type": "code",
   "execution_count": 5,
   "id": "79291be5-9bf5-4599-9f1a-20c1840db381",
   "metadata": {},
   "outputs": [
    {
     "data": {
      "text/plain": [
       "['Developer at NCIT HULT 2024',\n",
       " 'KIST HACKFEST 2024',\n",
       " 'NCIT HACKFEST 2024',\n",
       " 'Supervised Machine Learning',\n",
       " 'Become a Python Master',\n",
       " 'Internet of Things(IoT)',\n",
       " 'Flutter Course',\n",
       " 'Microsoft AI Skills Challenge',\n",
       " 'Microsoft Azure AI Challenge',\n",
       " 'CodeDecode Competition',\n",
       " 'Entrepreneurship Orientation Workshop',\n",
       " 'Java Training Course 2022']"
      ]
     },
     "execution_count": 5,
     "metadata": {},
     "output_type": "execute_result"
    }
   ],
   "source": [
    "certi_name=[]\n",
    "for i in certi:\n",
    "    h5_elements = i.find_all('h5')\n",
    "    for h5 in h5_elements:\n",
    "        certi_name.append(h5.text)\n",
    "certi_name"
   ]
  },
  {
   "cell_type": "code",
   "execution_count": 6,
   "id": "2a515ac0-4aa5-4d6b-8b24-29b344e66290",
   "metadata": {},
   "outputs": [
    {
     "data": {
      "text/plain": [
       "['Organized By: HULT PRIZE NCIT',\n",
       " 'Organized By: KIST College and SS',\n",
       " 'Organized By: NOSK and NCIT',\n",
       " 'Organized By: Coursera',\n",
       " 'Organized By: Programiz',\n",
       " 'Organized By: Cisco Networking Academy',\n",
       " 'Organized By: SkillUp',\n",
       " 'Organized By: Microsoft',\n",
       " 'Organized By: Microsoft Learn Student Ambassador',\n",
       " 'Organized By: NCIT Robotics Club',\n",
       " 'Organized By: NCIT',\n",
       " 'Organized By: Udemy']"
      ]
     },
     "execution_count": 6,
     "metadata": {},
     "output_type": "execute_result"
    }
   ],
   "source": [
    "certi_by=[]\n",
    "for i in certi:\n",
    "    p_elements=i.find_all('p')\n",
    "    for p in p_elements:\n",
    "        certi_by.append(p.text.strip())\n",
    "certi_by"
   ]
  },
  {
   "cell_type": "code",
   "execution_count": 7,
   "id": "bb9b0186-4e43-48db-9c61-55683e750644",
   "metadata": {},
   "outputs": [
    {
     "data": {
      "text/plain": [
       "['HULT PRIZE NCIT',\n",
       " 'KIST College and SS',\n",
       " 'NOSK and NCIT',\n",
       " 'Coursera',\n",
       " 'Programiz',\n",
       " 'Cisco Networking Academy',\n",
       " 'SkillUp',\n",
       " 'Microsoft',\n",
       " 'Microsoft Learn Student Ambassador',\n",
       " 'NCIT Robotics Club',\n",
       " 'NCIT',\n",
       " 'Udemy']"
      ]
     },
     "execution_count": 7,
     "metadata": {},
     "output_type": "execute_result"
    }
   ],
   "source": [
    "certi_by_edit=[i.replace(\"Organized By: \",\"\") for i in certi_by]\n",
    "certi_by_edit"
   ]
  },
  {
   "cell_type": "code",
   "execution_count": 8,
   "id": "65dd7823-90e4-4a20-944d-536c2f008c5a",
   "metadata": {},
   "outputs": [],
   "source": [
    "d={\n",
    "   'Certification':certi_name,\n",
    "    \"By\":certi_by_edit\n",
    "}\n",
    "df=pd.DataFrame(d)"
   ]
  },
  {
   "cell_type": "code",
   "execution_count": 9,
   "id": "9830e095-00fd-48cf-8c2c-a24a3d8ae83b",
   "metadata": {},
   "outputs": [
    {
     "data": {
      "text/html": [
       "<div>\n",
       "<style scoped>\n",
       "    .dataframe tbody tr th:only-of-type {\n",
       "        vertical-align: middle;\n",
       "    }\n",
       "\n",
       "    .dataframe tbody tr th {\n",
       "        vertical-align: top;\n",
       "    }\n",
       "\n",
       "    .dataframe thead th {\n",
       "        text-align: right;\n",
       "    }\n",
       "</style>\n",
       "<table border=\"1\" class=\"dataframe\">\n",
       "  <thead>\n",
       "    <tr style=\"text-align: right;\">\n",
       "      <th></th>\n",
       "      <th>Certification</th>\n",
       "      <th>By</th>\n",
       "    </tr>\n",
       "  </thead>\n",
       "  <tbody>\n",
       "    <tr>\n",
       "      <th>0</th>\n",
       "      <td>Developer at NCIT HULT 2024</td>\n",
       "      <td>HULT PRIZE NCIT</td>\n",
       "    </tr>\n",
       "    <tr>\n",
       "      <th>1</th>\n",
       "      <td>KIST HACKFEST 2024</td>\n",
       "      <td>KIST College and SS</td>\n",
       "    </tr>\n",
       "    <tr>\n",
       "      <th>2</th>\n",
       "      <td>NCIT HACKFEST 2024</td>\n",
       "      <td>NOSK and NCIT</td>\n",
       "    </tr>\n",
       "    <tr>\n",
       "      <th>3</th>\n",
       "      <td>Supervised Machine Learning</td>\n",
       "      <td>Coursera</td>\n",
       "    </tr>\n",
       "    <tr>\n",
       "      <th>4</th>\n",
       "      <td>Become a Python Master</td>\n",
       "      <td>Programiz</td>\n",
       "    </tr>\n",
       "    <tr>\n",
       "      <th>5</th>\n",
       "      <td>Internet of Things(IoT)</td>\n",
       "      <td>Cisco Networking Academy</td>\n",
       "    </tr>\n",
       "    <tr>\n",
       "      <th>6</th>\n",
       "      <td>Flutter Course</td>\n",
       "      <td>SkillUp</td>\n",
       "    </tr>\n",
       "    <tr>\n",
       "      <th>7</th>\n",
       "      <td>Microsoft AI Skills Challenge</td>\n",
       "      <td>Microsoft</td>\n",
       "    </tr>\n",
       "    <tr>\n",
       "      <th>8</th>\n",
       "      <td>Microsoft Azure AI Challenge</td>\n",
       "      <td>Microsoft Learn Student Ambassador</td>\n",
       "    </tr>\n",
       "    <tr>\n",
       "      <th>9</th>\n",
       "      <td>CodeDecode Competition</td>\n",
       "      <td>NCIT Robotics Club</td>\n",
       "    </tr>\n",
       "    <tr>\n",
       "      <th>10</th>\n",
       "      <td>Entrepreneurship Orientation Workshop</td>\n",
       "      <td>NCIT</td>\n",
       "    </tr>\n",
       "    <tr>\n",
       "      <th>11</th>\n",
       "      <td>Java Training Course 2022</td>\n",
       "      <td>Udemy</td>\n",
       "    </tr>\n",
       "  </tbody>\n",
       "</table>\n",
       "</div>"
      ],
      "text/plain": [
       "                            Certification                                  By\n",
       "0             Developer at NCIT HULT 2024                     HULT PRIZE NCIT\n",
       "1                      KIST HACKFEST 2024                 KIST College and SS\n",
       "2                      NCIT HACKFEST 2024                       NOSK and NCIT\n",
       "3             Supervised Machine Learning                            Coursera\n",
       "4                  Become a Python Master                           Programiz\n",
       "5                 Internet of Things(IoT)            Cisco Networking Academy\n",
       "6                          Flutter Course                             SkillUp\n",
       "7           Microsoft AI Skills Challenge                           Microsoft\n",
       "8            Microsoft Azure AI Challenge  Microsoft Learn Student Ambassador\n",
       "9                  CodeDecode Competition                  NCIT Robotics Club\n",
       "10  Entrepreneurship Orientation Workshop                                NCIT\n",
       "11              Java Training Course 2022                               Udemy"
      ]
     },
     "execution_count": 9,
     "metadata": {},
     "output_type": "execute_result"
    }
   ],
   "source": [
    "df"
   ]
  },
  {
   "cell_type": "code",
   "execution_count": null,
   "id": "546da477-e6ab-4f7b-90d0-b55e7e1704f4",
   "metadata": {},
   "outputs": [],
   "source": []
  }
 ],
 "metadata": {
  "kernelspec": {
   "display_name": "Python 3 (ipykernel)",
   "language": "python",
   "name": "python3"
  },
  "language_info": {
   "codemirror_mode": {
    "name": "ipython",
    "version": 3
   },
   "file_extension": ".py",
   "mimetype": "text/x-python",
   "name": "python",
   "nbconvert_exporter": "python",
   "pygments_lexer": "ipython3",
   "version": "3.12.6"
  }
 },
 "nbformat": 4,
 "nbformat_minor": 5
}
